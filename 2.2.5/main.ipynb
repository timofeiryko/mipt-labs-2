{
 "cells": [
  {
   "cell_type": "markdown",
   "metadata": {},
   "source": [
    "## Определение вязкости жидкости по скорости истечения через капилляр\n",
    "\n",
    "*Рыко Тимофей, Б06-302*, работа 2.2.5\n",
    "\n",
    "**Цель работы.** Определение вязкости воды и других жидкостей двумя разными способами: по измерению объёма жидкости, протёкшей через капилляр, и с помощью вискозиметра Освальда.\n",
    "\n",
    "**Экспериментальная установка.** В работе используются две установки.\n",
    "\n",
    "Сосуд Мариотта:\n",
    "\n",
    "<img src=\"image_1.png\" alt=\"Сосуд Мариотта\" style=\"width:400px\">\n",
    "\n",
    "Вискозиметр:\n",
    "\n",
    "<img src=\"image_2.png\" alt=\"Вискозиметр\" style=\"width:200px\">"
   ]
  },
  {
   "cell_type": "markdown",
   "metadata": {},
   "source": [
    "### 0 Введение\n",
    "\n",
    "#### Сосуд Мариотта\n",
    "\n",
    "Из формулы Пуазейля следует, что вязкость жидкости можно определить, измеряя ее расход $Q$, перепад\n",
    "давления $P1 - P2$, длину трубки l и ее радиус R.\n",
    "\n",
    "Вода заполняет сосуд Мариотта и вытекает через калиброванную капиллярную трубку, укрепленную в нижней части его боковой стенки. Сосуд Мариотта позволяет поддерживать постоянным перепад давления $P_1 - P_2$ на концах капилляра, несмотря на то, что уровень жидкости при ее вытекании понижается. Это достигается с помощью трубки В, открытой в атмосферу и проходящей через пробку, герметично закрывающую сосуд.\n",
    "\n",
    "Величина перепада давления $P_1 - P_2$ определяется высотой столба воды $h$ между осью капиллярной трубки А и нижним концом вертикальной трубки В. Высота столба измеряется с помощью микроскопа М, укрепленного на вертикально перемещающемся плунжере. Смещение плунжера определяется по миллиметровой шкале, снабженной нониусом. Объем вытекшей жидкости измеряется мензуркой П. Время истечения определяется по секундомеру. Длина капиллярной трубки измеряется миллиметровой линейкой, диаметр — микроскопом МИР.\n",
    "\n",
    "#### Вискозиметр\n",
    "\n",
    "В данном случае сравнивается время протекания жидкости неизвестной вязкости с временем протекания жидкости, для которой вязкость известна. Таким образом, измерения проводятся относительно.\n",
    "\n",
    "Заменяя в формуле Пуазейля $Q_v$ на $-dV/dt$ и $P_1 - P_2$ на $\\rho h(v) g$, получим \n",
    "\n",
    "$$\n",
    "-\\frac{dV}{dt} = \\frac{\\pi R^4}{8l}\\frac{h(V)\\rho g}{\\eta}\n",
    "$$\n",
    "\n",
    ", или \n",
    "\n",
    "$$\n",
    "-\\frac{8l}{\\pi R^4}\\frac{dV}{h(V)} = \\frac{\\rho g}{\\eta}dt\n",
    "$$\n",
    "\n",
    "Интегрируя от $V = V_0$ до $V = V_1$ и от $t = 0$ до $t = t_1$ получим, что\n",
    "\n",
    "$$\n",
    "\\frac{\\rho_1}{\\eta_1}t_1 = \\frac{\\rho_2}{\\eta_2}t_2 = \\frac{\\rho_3}{\\eta_3}t_3 = ...\n",
    "$$\n",
    "\n",
    "Проведя опыты с водой, а затем с исследуемой жидкостью, получим\n",
    "$$\n",
    "\\eta_x = \\eta_0\\frac{\\rho_x}{\\rho_0}\\frac{t_x}{t_0}\n",
    "$$"
   ]
  },
  {
   "cell_type": "markdown",
   "metadata": {},
   "source": [
    "### 1 Теоретическая справка\n",
    "\n",
    "Рассмотрим стационарный поток жидкости, ламинарно текущей через капилляр круглого сечения (рис. 1). Мысленно выделим в жидкости цилиндр радиуса r и длины l. Обозначим давление на его торцах через P1 и P2. В стационарных условиях сила давления на цилиндр $(P_1 − P_2)πr^2$ уравновешивается силой трения, действующей на цилиндр со стороны наружных слоев жидкости. Касательное напряжение в жидкости, как и в газе, равно:\n",
    "\n",
    "$$\n",
    "\\tau = -\\eta \\dfrac{dv}{dr}\n",
    "$$\n",
    "\n",
    "Полная сила трения:\n",
    "\n",
    "$$\n",
    "F_{тр} = S \\eta \\dfrac{dv}{dr}\n",
    "$$\n",
    "\n",
    ", где $S$ — поверхность цилиндра $\\eta$ — вязкость, $dv/dr$— градиент скорости\n",
    "\n",
    "Тогда:\n",
    "\n",
    "$$\n",
    "(P_1 - P_2) \\pi r^2 + 2 \\pi r l \\eta \\dfrac{dv}{dr} = 0\n",
    "$$\n",
    "\n",
    "Интегрируя и учитывая, что скорость жидкости обращается в нуль при радиусе трубки R:\n",
    "\n",
    "$$\n",
    "v = \\dfrac{P_1 - P_2}{4 \\eta l} (R^2 - r^2)\n",
    "$$\n",
    "\n",
    "Из этого уравнения непосредственно следует **формула Пуазейля**:\n",
    "\n",
    "$$\n",
    "Q = \\pi \\frac{P_1-P_2}{8 \\eta l} R^4\n",
    "$$\n",
    "\n",
    "Также в данной лабораторной следует упомянуть уравнение Бернулли:\n",
    "\n",
    "$$\n",
    "\\frac{\\rho v^2}{2} = P_0 - P\n",
    "$$\n",
    "\n",
    "И число Рейнольдса:\n",
    "\n",
    "$$\n",
    "Re = \\frac{v R \\rho}{\\eta} = \\frac{2\\frac{\\rho v^2}{2}}{\\eta \\frac{v}{R}}\n",
    "$$\n",
    "\n",
    "В гладких трубах круглого сечения переход от ламинарного движения к турбулентному происходит при $Re \\approx 1000$.\n",
    "\n",
    "Ламинарное движение жидкости при переходе ее из широкого сосуда в капилляр устанавливается не сразу, а после того, как она пройдет расстояние $a$\n",
    "\n",
    "$$\n",
    "a = 0,2R * Re\n",
    "$$"
   ]
  },
  {
   "cell_type": "markdown",
   "metadata": {},
   "source": [
    "### 2 Выполнение и результаты"
   ]
  },
  {
   "cell_type": "code",
   "execution_count": 22,
   "metadata": {},
   "outputs": [],
   "source": [
    "import pandas as pd\n",
    "import numpy as np\n",
    "\n",
    "import matplotlib.pyplot as plt\n",
    "import seaborn as sns\n",
    "\n",
    "from scipy import optimize"
   ]
  },
  {
   "cell_type": "code",
   "execution_count": 2,
   "metadata": {},
   "outputs": [
    {
     "name": "stdout",
     "output_type": "stream",
     "text": [
      "\n",
      "Note: you may need to restart the kernel to use updated packages.\n"
     ]
    }
   ],
   "source": [
    "%conda env export > environment.yml"
   ]
  },
  {
   "cell_type": "markdown",
   "metadata": {},
   "source": [
    "#### Сосуд Мариотта"
   ]
  },
  {
   "cell_type": "markdown",
   "metadata": {},
   "source": [
    " С помощь микроскопа определим радиус трубки, с помощью миллиметровой линейки определим длину капилляра:"
   ]
  },
  {
   "cell_type": "code",
   "execution_count": 3,
   "metadata": {},
   "outputs": [],
   "source": [
    "R = 0.25\n",
    "\n",
    "l = 12 * 10"
   ]
  },
  {
   "cell_type": "markdown",
   "metadata": {},
   "source": [
    "Убедимся, что расход воды при одинаковой величине h не зависит от уровня жидкости. При h = 39 см объём 20 $см^3$ вытек из сосуда сначала за 409 с, затем за 411 с. Условие выполняется."
   ]
  },
  {
   "cell_type": "code",
   "execution_count": 6,
   "metadata": {},
   "outputs": [
    {
     "data": {
      "text/plain": [
       "True"
      ]
     },
     "execution_count": 6,
     "metadata": {},
     "output_type": "execute_result"
    }
   ],
   "source": [
    "409 + 0.01 * 409 > 411"
   ]
  },
  {
   "cell_type": "markdown",
   "metadata": {},
   "source": [
    "Перепад давлений $\\triangle P = P_1 - P_2$ между концами капилляра, выраженный в миллиметрах водяного столба, не равен $h$, а содержит поправку $\\triangle h$, обусловленную силами поверхностного натяжения. Чтобы её определить, будем опускать трубку В до тех пор, пока вода не перестанет вытекать из капилляра, это значит, что Это значит, что давление столба воды $\\triangle h$ между осью капилляра и нижним торцом трубки В уравновесилось силами поверхностного натяжения пузырька воздуха, возникшего на конце трубки В, и капли жидкости на конце трубки С.\n"
   ]
  },
  {
   "cell_type": "code",
   "execution_count": 8,
   "metadata": {},
   "outputs": [],
   "source": [
    "delta_h = 9.5"
   ]
  },
  {
   "cell_type": "markdown",
   "metadata": {},
   "source": [
    "Измерим расход воды при нескольких значениях $h$."
   ]
  },
  {
   "cell_type": "code",
   "execution_count": 19,
   "metadata": {},
   "outputs": [
    {
     "data": {
      "text/html": [
       "<div>\n",
       "<style scoped>\n",
       "    .dataframe tbody tr th:only-of-type {\n",
       "        vertical-align: middle;\n",
       "    }\n",
       "\n",
       "    .dataframe tbody tr th {\n",
       "        vertical-align: top;\n",
       "    }\n",
       "\n",
       "    .dataframe thead th {\n",
       "        text-align: right;\n",
       "    }\n",
       "</style>\n",
       "<table border=\"1\" class=\"dataframe\">\n",
       "  <thead>\n",
       "    <tr style=\"text-align: right;\">\n",
       "      <th></th>\n",
       "      <th>h, мм</th>\n",
       "      <th>t, c</th>\n",
       "      <th>Q, см3 / c</th>\n",
       "      <th>Re</th>\n",
       "      <th>a, мм</th>\n",
       "    </tr>\n",
       "  </thead>\n",
       "  <tbody>\n",
       "    <tr>\n",
       "      <th>0</th>\n",
       "      <td>41.4</td>\n",
       "      <td>392</td>\n",
       "      <td>0.0510</td>\n",
       "      <td>74.62</td>\n",
       "      <td>3.73</td>\n",
       "    </tr>\n",
       "    <tr>\n",
       "      <th>1</th>\n",
       "      <td>50.5</td>\n",
       "      <td>297</td>\n",
       "      <td>0.0673</td>\n",
       "      <td>98.49</td>\n",
       "      <td>4.92</td>\n",
       "    </tr>\n",
       "    <tr>\n",
       "      <th>2</th>\n",
       "      <td>63.5</td>\n",
       "      <td>225</td>\n",
       "      <td>0.0889</td>\n",
       "      <td>130.00</td>\n",
       "      <td>6.50</td>\n",
       "    </tr>\n",
       "    <tr>\n",
       "      <th>3</th>\n",
       "      <td>74.5</td>\n",
       "      <td>189</td>\n",
       "      <td>0.1058</td>\n",
       "      <td>154.77</td>\n",
       "      <td>7.74</td>\n",
       "    </tr>\n",
       "  </tbody>\n",
       "</table>\n",
       "</div>"
      ],
      "text/plain": [
       "   h, мм   t, c   Q, см3 / c      Re   a, мм\n",
       "0   41.4    392       0.0510   74.62    3.73\n",
       "1   50.5    297       0.0673   98.49    4.92\n",
       "2   63.5    225       0.0889  130.00    6.50\n",
       "3   74.5    189       0.1058  154.77    7.74"
      ]
     },
     "execution_count": 19,
     "metadata": {},
     "output_type": "execute_result"
    }
   ],
   "source": [
    "df = pd.read_csv('data_1.csv', sep=\";\")\n",
    "df"
   ]
  },
  {
   "cell_type": "markdown",
   "metadata": {},
   "source": [
    "Построим график зависимости Q от h:"
   ]
  },
  {
   "cell_type": "code",
   "execution_count": 43,
   "metadata": {},
   "outputs": [
    {
     "data": {
      "image/png": "[encoded data removed]",
      "text/plain": [
       "<Figure size 1000x1000 with 1 Axes>"
      ]
     },
     "metadata": {},
     "output_type": "display_data"
    }
   ],
   "source": [
    "# minimalistic style without background\n",
    "sns.set_style(\"whitegrid\")\n",
    "\n",
    "# plot base\n",
    "fig, ax = plt.subplots(figsize=(10, 10))\n",
    "ax.set_xlim(0, X.max() * 1.1)\n",
    "ax.set_ylim(-0.02, Y.max() * 1.1)\n",
    "\n",
    "X = df['h, мм'] / 10\n",
    "Y = df[' Q, см3 / c']\n",
    "sns.regplot(x=X, y=Y, truncate=False)\n",
    "\n",
    "ax.set_xlabel('h, см')\n",
    "ax.set_ylabel('Q, см3 / c', rotation=0, labelpad=30)\n",
    "\n",
    "plt.savefig('plot.png', dpi=300)\n",
    "\n",
    "sns.despine()\n",
    "plt.show()"
   ]
  },
  {
   "cell_type": "code",
   "execution_count": 44,
   "metadata": {},
   "outputs": [
    {
     "name": "stdout",
     "output_type": "stream",
     "text": [
      "Slope (a): 0.01654473455381413\n",
      "Intercept (b): -0.01684086184804664\n"
     ]
    }
   ],
   "source": [
    "def func(x, a, b):\n",
    "    y = a*x + b\n",
    "    return y\n",
    "\n",
    "optimal_params = optimize.curve_fit(func, xdata = np.array(X).reshape(-1), ydata = np.array(Y).reshape(-1))[0]\n",
    "a, b = optimal_params\n",
    "\n",
    "print(f'Slope (a): {a}')\n",
    "print(f'Intercept (b): {b}')"
   ]
  },
  {
   "cell_type": "markdown",
   "metadata": {},
   "source": [
    "По углу наклона прямой определим величину $\\eta$:\n",
    "$$\n",
    "\\eta = \\frac{\\pi R^4 \\rho g}{8 l Q'(h)} = 0.0087 \\ П\n",
    "$$\n",
    "\n",
    "Рассчитаем погрешность измерения вязкости:\n",
    "\n",
    "$$\n",
    "\\sigma \\eta = \\eta \\sqrt{(\\frac{\\sigma h}{h})^2 + 4^2(\\frac{\\sigma R}{R})^2 + (\\frac{\\sigma l}{l})^2} = 0.000616 \\ П\n",
    "$$\n",
    "\n",
    "Для воды температуры 25 градусов Цельсия значение вязкости $\\eta = 0.0089$ П."
   ]
  },
  {
   "cell_type": "code",
   "execution_count": 53,
   "metadata": {},
   "outputs": [
    {
     "data": {
      "text/plain": [
       "True"
      ]
     },
     "execution_count": 53,
     "metadata": {},
     "output_type": "execute_result"
    }
   ],
   "source": [
    "0.0087 + 0.000616 > 0.0089"
   ]
  },
  {
   "cell_type": "markdown",
   "metadata": {},
   "source": [
    "Ура, с учетом погрешности, мы попали в табличные значения!"
   ]
  },
  {
   "cell_type": "markdown",
   "metadata": {},
   "source": [
    "#### Вискозиметр"
   ]
  },
  {
   "cell_type": "code",
   "execution_count": 73,
   "metadata": {},
   "outputs": [
    {
     "data": {
      "text/html": [
       "<div>\n",
       "<style scoped>\n",
       "    .dataframe tbody tr th:only-of-type {\n",
       "        vertical-align: middle;\n",
       "    }\n",
       "\n",
       "    .dataframe tbody tr th {\n",
       "        vertical-align: top;\n",
       "    }\n",
       "\n",
       "    .dataframe thead th {\n",
       "        text-align: right;\n",
       "    }\n",
       "</style>\n",
       "<table border=\"1\" class=\"dataframe\">\n",
       "  <thead>\n",
       "    <tr style=\"text-align: right;\">\n",
       "      <th></th>\n",
       "      <th>Глицерин 10</th>\n",
       "      <th>Глицерин 20</th>\n",
       "      <th>Глицерин 30</th>\n",
       "      <th>Вода</th>\n",
       "    </tr>\n",
       "  </thead>\n",
       "  <tbody>\n",
       "    <tr>\n",
       "      <th>0</th>\n",
       "      <td>12.21</td>\n",
       "      <td>17.45</td>\n",
       "      <td>22.10</td>\n",
       "      <td>9.24</td>\n",
       "    </tr>\n",
       "    <tr>\n",
       "      <th>1</th>\n",
       "      <td>11.86</td>\n",
       "      <td>17.51</td>\n",
       "      <td>22.33</td>\n",
       "      <td>9.30</td>\n",
       "    </tr>\n",
       "    <tr>\n",
       "      <th>2</th>\n",
       "      <td>12.16</td>\n",
       "      <td>17.47</td>\n",
       "      <td>22.25</td>\n",
       "      <td>9.31</td>\n",
       "    </tr>\n",
       "    <tr>\n",
       "      <th>3</th>\n",
       "      <td>12.03</td>\n",
       "      <td>17.48</td>\n",
       "      <td>22.31</td>\n",
       "      <td>9.28</td>\n",
       "    </tr>\n",
       "    <tr>\n",
       "      <th>4</th>\n",
       "      <td>11.78</td>\n",
       "      <td>17.51</td>\n",
       "      <td>22.18</td>\n",
       "      <td>9.27</td>\n",
       "    </tr>\n",
       "    <tr>\n",
       "      <th>5</th>\n",
       "      <td>12.25</td>\n",
       "      <td>17.46</td>\n",
       "      <td>22.15</td>\n",
       "      <td>9.29</td>\n",
       "    </tr>\n",
       "    <tr>\n",
       "      <th>6</th>\n",
       "      <td>12.35</td>\n",
       "      <td>17.52</td>\n",
       "      <td>22.26</td>\n",
       "      <td>9.30</td>\n",
       "    </tr>\n",
       "    <tr>\n",
       "      <th>7</th>\n",
       "      <td>12.31</td>\n",
       "      <td>17.55</td>\n",
       "      <td>22.22</td>\n",
       "      <td>9.26</td>\n",
       "    </tr>\n",
       "    <tr>\n",
       "      <th>8</th>\n",
       "      <td>12.40</td>\n",
       "      <td>17.50</td>\n",
       "      <td>22.27</td>\n",
       "      <td>9.28</td>\n",
       "    </tr>\n",
       "    <tr>\n",
       "      <th>9</th>\n",
       "      <td>12.22</td>\n",
       "      <td>17.54</td>\n",
       "      <td>22.31</td>\n",
       "      <td>9.29</td>\n",
       "    </tr>\n",
       "  </tbody>\n",
       "</table>\n",
       "</div>"
      ],
      "text/plain": [
       "   Глицерин 10  Глицерин 20  Глицерин 30  Вода\n",
       "0        12.21        17.45        22.10  9.24\n",
       "1        11.86        17.51        22.33  9.30\n",
       "2        12.16        17.47        22.25  9.31\n",
       "3        12.03        17.48        22.31  9.28\n",
       "4        11.78        17.51        22.18  9.27\n",
       "5        12.25        17.46        22.15  9.29\n",
       "6        12.35        17.52        22.26  9.30\n",
       "7        12.31        17.55        22.22  9.26\n",
       "8        12.40        17.50        22.27  9.28\n",
       "9        12.22        17.54        22.31  9.29"
      ]
     },
     "execution_count": 73,
     "metadata": {},
     "output_type": "execute_result"
    }
   ],
   "source": [
    "df2 = pd.read_csv('data_2.csv')\n",
    "df2"
   ]
  },
  {
   "cell_type": "code",
   "execution_count": 74,
   "metadata": {},
   "outputs": [
    {
     "data": {
      "text/html": [
       "<div>\n",
       "<style scoped>\n",
       "    .dataframe tbody tr th:only-of-type {\n",
       "        vertical-align: middle;\n",
       "    }\n",
       "\n",
       "    .dataframe tbody tr th {\n",
       "        vertical-align: top;\n",
       "    }\n",
       "\n",
       "    .dataframe thead th {\n",
       "        text-align: right;\n",
       "    }\n",
       "</style>\n",
       "<table border=\"1\" class=\"dataframe\">\n",
       "  <thead>\n",
       "    <tr style=\"text-align: right;\">\n",
       "      <th></th>\n",
       "      <th>Глицерин 10</th>\n",
       "      <th>Глицерин 20</th>\n",
       "      <th>Глицерин 30</th>\n",
       "      <th>Вода</th>\n",
       "    </tr>\n",
       "  </thead>\n",
       "  <tbody>\n",
       "    <tr>\n",
       "      <th>count</th>\n",
       "      <td>10.000000</td>\n",
       "      <td>10.000000</td>\n",
       "      <td>10.000000</td>\n",
       "      <td>10.000000</td>\n",
       "    </tr>\n",
       "    <tr>\n",
       "      <th>mean</th>\n",
       "      <td>12.157000</td>\n",
       "      <td>17.499000</td>\n",
       "      <td>22.238000</td>\n",
       "      <td>9.282000</td>\n",
       "    </tr>\n",
       "    <tr>\n",
       "      <th>std</th>\n",
       "      <td>0.205915</td>\n",
       "      <td>0.033483</td>\n",
       "      <td>0.075248</td>\n",
       "      <td>0.020976</td>\n",
       "    </tr>\n",
       "    <tr>\n",
       "      <th>min</th>\n",
       "      <td>11.780000</td>\n",
       "      <td>17.450000</td>\n",
       "      <td>22.100000</td>\n",
       "      <td>9.240000</td>\n",
       "    </tr>\n",
       "    <tr>\n",
       "      <th>25%</th>\n",
       "      <td>12.062500</td>\n",
       "      <td>17.472500</td>\n",
       "      <td>22.190000</td>\n",
       "      <td>9.272500</td>\n",
       "    </tr>\n",
       "    <tr>\n",
       "      <th>50%</th>\n",
       "      <td>12.215000</td>\n",
       "      <td>17.505000</td>\n",
       "      <td>22.255000</td>\n",
       "      <td>9.285000</td>\n",
       "    </tr>\n",
       "    <tr>\n",
       "      <th>75%</th>\n",
       "      <td>12.295000</td>\n",
       "      <td>17.517500</td>\n",
       "      <td>22.300000</td>\n",
       "      <td>9.297500</td>\n",
       "    </tr>\n",
       "    <tr>\n",
       "      <th>max</th>\n",
       "      <td>12.400000</td>\n",
       "      <td>17.550000</td>\n",
       "      <td>22.330000</td>\n",
       "      <td>9.310000</td>\n",
       "    </tr>\n",
       "  </tbody>\n",
       "</table>\n",
       "</div>"
      ],
      "text/plain": [
       "       Глицерин 10  Глицерин 20  Глицерин 30       Вода\n",
       "count    10.000000    10.000000    10.000000  10.000000\n",
       "mean     12.157000    17.499000    22.238000   9.282000\n",
       "std       0.205915     0.033483     0.075248   0.020976\n",
       "min      11.780000    17.450000    22.100000   9.240000\n",
       "25%      12.062500    17.472500    22.190000   9.272500\n",
       "50%      12.215000    17.505000    22.255000   9.285000\n",
       "75%      12.295000    17.517500    22.300000   9.297500\n",
       "max      12.400000    17.550000    22.330000   9.310000"
      ]
     },
     "execution_count": 74,
     "metadata": {},
     "output_type": "execute_result"
    }
   ],
   "source": [
    "df2.describe()"
   ]
  },
  {
   "cell_type": "code",
   "execution_count": 87,
   "metadata": {},
   "outputs": [
    {
     "data": {
      "image/png": "[encoded data removed]",
      "text/plain": [
       "<Figure size 640x480 with 1 Axes>"
      ]
     },
     "metadata": {},
     "output_type": "display_data"
    }
   ],
   "source": [
    "sns.boxplot(data=df2)\n",
    "sns.despine()\n",
    "plt.show()"
   ]
  },
  {
   "cell_type": "markdown",
   "metadata": {},
   "source": [
    "Интересно, что стандартное отклонение на порядок больше для 10-процентного глицерина. Дело в том, что в ходе эксперимента использовался мутный раствор с твердыми включениями, это могло повлиять на измерения. Поэтому мы не будем рассматривать эти данные."
   ]
  },
  {
   "cell_type": "markdown",
   "metadata": {},
   "source": [
    "Найдем погрешности::\n",
    "\n",
    "$$\n",
    "\\sigma \\eta_x = \\eta_x \\sqrt{(\\frac{\\sigma \\eta_0}{\\eta_0})^2 + 4^2(\\frac{\\sigma t_x}{t_x})^2 + (\\frac{\\sigma t_0}{t_0})^2}\n",
    "$$\n",
    "\n",
    "$$\n",
    "\\eta_{20} = 1,669 \\pm 0,13 \\ сП\n",
    "$$\n",
    "\n",
    "$$\n",
    "\\eta_{30} = 1,805 \\pm 0,14 \\ сП\n",
    "$$"
   ]
  },
  {
   "cell_type": "markdown",
   "metadata": {},
   "source": [
    "## 3 Выводы\n",
    "\n",
    "1) С помощью сосуда Мариотта была напрямую измерена вязкость воды, значение сошлось с табличным в пределах погрешности\n",
    "\n",
    "2) С помощью вискозиметра были измерены вязкость различных растворов глицерина относительно вязкости воды. К сожалению, вязкость 10-процентного раствора определить не удалось из-за проблемного эксперимента."
   ]
  }
 ],
 "metadata": {
  "kernelspec": {
   "display_name": "base-ds",
   "language": "python",
   "name": "python3"
  },
  "language_info": {
   "codemirror_mode": {
    "name": "ipython",
    "version": 3
   },
   "file_extension": ".py",
   "mimetype": "text/x-python",
   "name": "python",
   "nbconvert_exporter": "python",
   "pygments_lexer": "ipython3",
   "version": "3.12.0"
  }
 },
 "nbformat": 4,
 "nbformat_minor": 2
}
