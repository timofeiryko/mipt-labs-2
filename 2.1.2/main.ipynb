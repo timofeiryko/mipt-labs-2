{
 "cells": [
  {
   "cell_type": "markdown",
   "metadata": {},
   "source": [
    "## <a id='toc1_1_'></a>[Определение 𝐶𝑝/𝐶𝑣 методом изобарического расширения](#toc0_)\n",
    "\n",
    "*Рыко Тимофей, Б06-302*, работа 2.1.2\n",
    "\n",
    "**Цель работы.** Определение отношения 𝐶𝑝/𝐶𝑣 воздуха по измерения давления в стеклянном сосуде. Измерения проводятся сначала после адиабатического расширения газа, а затем после изохорического нагревания сосуда и газа до комнатной температуры.\n",
    "\n",
    "**Экспериментальная установка.** Экспериментальная установка состоит из стеклянного сосуда А (объёмом около 20 л), снабжённого краном К, и U-образного жидкостного манометра, измеряющего избыточное давление газа в сосуде.\n",
    "\n",
    "<img src=\"image_1.png\" alt=\"Экспериментальная установка\" style=\"width:600px\">"
   ]
  },
  {
   "cell_type": "markdown",
   "metadata": {},
   "source": [
    "**Содеражение**<a id='toc0_'></a>    \n",
    "- [Определение 𝐶𝑝/𝐶𝑣 методом изобарического расширения](#toc1_1_)    \n",
    "    - [0 Введение](#toc1_1_1_)    \n",
    "    - [1 Теоретическая справка](#toc1_1_2_)    \n",
    "    - [2 Выполнение и результаты](#toc1_1_3_)    \n",
    "        - [Импорт библиотек и загрузка данных](#toc1_1_3_1_1_)    \n",
    "      - [Обработка результатов](#toc1_1_3_2_)    \n",
    "    - [3 Выводы](#toc1_1_4_)    \n",
    "\n",
    "<!-- vscode-jupyter-toc-config\n",
    "\tnumbering=false\n",
    "\tanchor=true\n",
    "\tflat=false\n",
    "\tminLevel=1\n",
    "\tmaxLevel=6\n",
    "\t/vscode-jupyter-toc-config -->\n",
    "<!-- THIS CELL WILL BE REPLACED ON TOC UPDATE. DO NOT WRITE YOUR TEXT IN THIS CELL -->"
   ]
  },
  {
   "cell_type": "markdown",
   "metadata": {},
   "source": [
    "### <a id='toc1_1_1_'></a>[0 Введение](#toc0_)\n",
    "\n",
    "Избыточное давление создаётся с помощью резиновой груши, соединённой с сосудом трубкой с краном $К_1$, в сосуде создаётся заданное избыточное давление $p_1$. При этом газ становится перегретым. Мысленно выделим в сосуде некоторый объём $\\Delta V$. Будем следить за изменением его состояния. Вследствие теплообмена со стенками сосуда через некоторое время газ остынет до комнатной температуры $T_0$ (изохорное охлаждение). При этом давление понизится до $p_0 + \\Delta p_1$, где\n",
    "\n",
    "$$\n",
    "\t\\Delta p_1 = \\rho g \\Delta h_1 \\qquad (1)\n",
    "$$\n",
    "\n",
    "Откроем кран $K_1$. За время $\\Delta t$ порядка $0.5с$ произойдёт адиабатическое расширение газа, и его температура окажется ниже комнатной. Далее газ будет изобарически нагреваться. Зададим время $\\tau$, В течение которого кран $K$ остаётся открытым, таким, чтобы можно было пренебречь временем $\\Delta t$ адиабатического расширения воздуха. После закрытия крана $K$ газ станет изохорически нагреваться до комнатной температуры, причём давление внутри сосуда возрастёт до $p_0 + \\Delta p_2$, где\n",
    "\n",
    "$$\n",
    "\t\\Delta p_2 = \\rho g \\Delta h_2 \\qquad (2)\n",
    "$$\n",
    "\n",
    "Наибольший интерес представляет исследование зависимости отношения перепадов давления $\\dfrac{\\Delta p_1}{\\Delta p_2}$ от времени $\\tau$. Они связаны таким соотношением:\n",
    "\n",
    "$$\n",
    "\t\\ln\\left(\\dfrac{\\Delta h_1}{\\Delta h_2}\\right) = \\ln\\left(\\dfrac{\\gamma}{\\gamma - 1}\\right) + \\left(\\dfrac{\\alpha}{c_p  m_0}\\right)\\tau \\qquad (6)\n",
    "$$\n",
    "\n",
    "Исходя из этой зависимости можно определить $\\gamma$."
   ]
  },
  {
   "cell_type": "markdown",
   "metadata": {},
   "source": [
    "### <a id='toc1_1_2_'></a>[1 Теоретическая справка](#toc0_)\n",
    "\n",
    "С хорошей точностью мы можем считать воздух в газгольдере идеальным газом. Рассмотрим изобарическое расширение воздуха. Для этого запишем уравнение теплового баланса для изменяющейся со временем массы $m = \\dfrac{p_0 V_0}{RT}\\mu$:\n",
    "\n",
    "$$\n",
    "    c_p \\, m \\, dT = -\\alpha (T - T_0)dt\n",
    "$$\n",
    "\n",
    "где $c_p$ — удельная теплоёмкость воздуха при постоянном давлении, $\\alpha$ — положительный постоянный коэффициент, характеризующий теплообмен, $V_0$ — объём газгольдера.\n",
    "\n",
    "$$\n",
    "    \\dfrac{dT}{T(T - T_0)} = \\dfrac{-\\alpha dt}{c_p \\,\\dfrac{p_0 V_0}{R}\\mu} \n",
    "    \\quad \\Rightarrow \\quad \n",
    "    \\dfrac{1}{T_0}\\left(\\dfrac{1}{T} - \\dfrac{1}{T - T_0}\\right) dT = \\dfrac{\\alpha dt}{c_p m_0 T_0} \n",
    "    \\quad \\Rightarrow \\\\ \\Rightarrow \\quad \n",
    "    \\int_{T_1}^{T_2}\\left(\\dfrac{1}{T} - \\dfrac{1}{T - T_0}\\right) dT = \\dfrac{\\alpha}{c_p m_0}\\int_{0}^{\\tau}dt \n",
    "    \\quad \\Rightarrow \\quad \n",
    "    \\ln\\left(\\dfrac{T_2}{T_1}\\right) - \\ln\\left(\\dfrac{T_2 - T_0}{T_1 - T_0}\\right) = \\dfrac{\\alpha}{c_p m_0}\\tau \n",
    "    \\quad \\Rightarrow \\\\ \\qquad\\qquad\\qquad\\Rightarrow \\quad\n",
    "    \\ln\\left(\\dfrac{T_2}{T_1}\\dfrac{\\Delta T_1}{\\Delta T_2}\\right) = \\dfrac{\\alpha}{c_p m_0}\\tau \n",
    "    \\quad \\Rightarrow \\quad \n",
    "    \\dfrac{\\Delta T_1}{T_1} = \\dfrac{\\Delta T_2}{T_2} \\exp\\left(\\dfrac{\\alpha}{c_p m_0}\\tau\\right)\n",
    "    \\qquad \\qquad \\qquad(3)\n",
    "$$\n",
    "\n",
    "Для адиабатического расширения справедливо соотношение\n",
    "\n",
    "$$\n",
    "T^{\\gamma} = const \\; p^{\\gamma - 1}$, где $\\gamma = \\dfrac{c_p}{c_v}\n",
    "$$\n",
    "\n",
    "Поэтому\n",
    "\n",
    "$$\n",
    "    \\gamma\\dfrac{dT}{T} = (\\gamma - 1)\\dfrac{dp}{p} \n",
    "    \\quad \\Rightarrow \\quad \n",
    "    \\dfrac{dT}{T} = \\dfrac{(\\gamma - 1)}{\\gamma}\\dfrac{dp}{p} \n",
    "    \\quad \\Rightarrow \\quad \n",
    "    \\dfrac{\\Delta T_1}{T_1} = \\dfrac{(\\gamma - 1)}{\\gamma}\\dfrac{dp_1}{p_0} \n",
    "    \\quad (4)\n",
    "$$\n",
    "\n",
    "При изохорическом нагреве газа выполняется соотношение:\n",
    "\n",
    "$$\n",
    "    \\dfrac{p}{T} = const \\quad \\Rightarrow \\quad \\dfrac{dp}{p} = \\dfrac{dT}{T} \\quad \\Rightarrow \\quad \\dfrac{\\Delta p_2}{p_0} = \\dfrac{\\Delta T_2}{T_2}\n",
    "    \\quad (5)\n",
    "$$\n",
    "\n",
    "После подстановки (4) и (5) в (3) получим:\n",
    "\n",
    "$$\n",
    "    \\dfrac{(\\gamma - 1)}{\\gamma}\\dfrac{\\Delta p_1}{p_0} = \\dfrac{\\Delta p_2}{p_0}\\exp\\left(\\dfrac{\\alpha}{c_p m_0}\\tau\\right)\n",
    "    \\quad \\Rightarrow \\quad\n",
    "    \\dfrac{(\\gamma - 1)}{\\gamma}\\Delta h_1 = \\Delta h_2\\, \\exp\\left(\\dfrac{\\alpha}{c_p m_0}\\tau\\right)\n",
    "    \\quad \\Rightarrow \\\\ \\qquad \\Rightarrow \\quad \n",
    "    \\dfrac{\\Delta h_1}{\\Delta h_2} = \\dfrac{\\gamma}{\\gamma - 1}\\exp\\left(\\dfrac{\\alpha}{c_p  m_0}\\tau\\right)\n",
    "    \\quad \\Rightarrow \\quad \n",
    "    \\ln\\left(\\dfrac{\\Delta h_1}{\\Delta h_2}\\right) = \\ln\\left(\\dfrac{\\gamma}{\\gamma - 1}\\right) + \\left(\\dfrac{\\alpha}{c_p  m_0}\\right)\\tau \\qquad \\qquad (6)\n",
    "$$"
   ]
  },
  {
   "cell_type": "markdown",
   "metadata": {},
   "source": [
    "### <a id='toc1_1_3_'></a>[2 Выполнение и результаты](#toc0_)\n",
    "\n",
    "Проверим исправность установки. Убедимся, что уровни жидкости в манометре одинаковы. Закачаем с помощью груши газ и подождём выравнивания температур. Запишем разность уровней жидкости $\\Delta h_1$. Откроем кран К на короткое время ($\\tau \\approx 0,5c$) и закроем его снова. Подождём, пока уровень жидкости в манометре перестанет изменяться, т.е. когда температура газа в сосуде сравняется с комнатной. Запишем разность уровней жидкости в манометре $\\Delta h_2$. Далее проведём серию из 6 измерений сначала для других времён открытия крана $\\tau$. По полученным данным построим график зависимости $\\ln\\left(\\dfrac{\\Delta h_1}{\\Delta h_2}\\right)$ от $\\tau$, а далее найдём из него $\\gamma$ используя формулу (6)."
   ]
  },
  {
   "cell_type": "markdown",
   "metadata": {},
   "source": [
    "##### <a id='toc1_1_3_1_1_'></a>[Импорт библиотек и загрузка данных](#toc0_)"
   ]
  },
  {
   "cell_type": "code",
   "execution_count": 1,
   "metadata": {},
   "outputs": [],
   "source": [
    "import pandas as pd\n",
    "import numpy as np\n",
    "\n",
    "import matplotlib.pyplot as plt\n",
    "import seaborn as sns\n",
    "\n",
    "from scipy import optimize"
   ]
  },
  {
   "cell_type": "code",
   "execution_count": 24,
   "metadata": {},
   "outputs": [
    {
     "name": "stdout",
     "output_type": "stream",
     "text": [
      "\n",
      "Note: you may need to restart the kernel to use updated packages.\n"
     ]
    }
   ],
   "source": [
    "%conda env export > environment.yml"
   ]
  },
  {
   "cell_type": "code",
   "execution_count": 2,
   "metadata": {},
   "outputs": [
    {
     "data": {
      "text/html": [
       "<div>\n",
       "<style scoped>\n",
       "    .dataframe tbody tr th:only-of-type {\n",
       "        vertical-align: middle;\n",
       "    }\n",
       "\n",
       "    .dataframe tbody tr th {\n",
       "        vertical-align: top;\n",
       "    }\n",
       "\n",
       "    .dataframe thead th {\n",
       "        text-align: right;\n",
       "    }\n",
       "</style>\n",
       "<table border=\"1\" class=\"dataframe\">\n",
       "  <thead>\n",
       "    <tr style=\"text-align: right;\">\n",
       "      <th></th>\n",
       "      <th>Delta h1 (higher)</th>\n",
       "      <th>Delta h1 (lower)</th>\n",
       "      <th>Delta h2 (higher)</th>\n",
       "      <th>Delta h2 (lower)</th>\n",
       "      <th>Time</th>\n",
       "    </tr>\n",
       "  </thead>\n",
       "  <tbody>\n",
       "    <tr>\n",
       "      <th>0</th>\n",
       "      <td>27.5</td>\n",
       "      <td>3.9</td>\n",
       "      <td>17.7</td>\n",
       "      <td>13.1</td>\n",
       "      <td>5</td>\n",
       "    </tr>\n",
       "    <tr>\n",
       "      <th>1</th>\n",
       "      <td>27.8</td>\n",
       "      <td>3.8</td>\n",
       "      <td>17.5</td>\n",
       "      <td>13.4</td>\n",
       "      <td>10</td>\n",
       "    </tr>\n",
       "    <tr>\n",
       "      <th>2</th>\n",
       "      <td>27.8</td>\n",
       "      <td>3.7</td>\n",
       "      <td>16.9</td>\n",
       "      <td>13.9</td>\n",
       "      <td>15</td>\n",
       "    </tr>\n",
       "    <tr>\n",
       "      <th>3</th>\n",
       "      <td>27.7</td>\n",
       "      <td>3.9</td>\n",
       "      <td>16.6</td>\n",
       "      <td>14.3</td>\n",
       "      <td>20</td>\n",
       "    </tr>\n",
       "    <tr>\n",
       "      <th>4</th>\n",
       "      <td>27.7</td>\n",
       "      <td>3.9</td>\n",
       "      <td>16.3</td>\n",
       "      <td>14.5</td>\n",
       "      <td>25</td>\n",
       "    </tr>\n",
       "    <tr>\n",
       "      <th>5</th>\n",
       "      <td>27.9</td>\n",
       "      <td>3.7</td>\n",
       "      <td>16.2</td>\n",
       "      <td>14.7</td>\n",
       "      <td>30</td>\n",
       "    </tr>\n",
       "    <tr>\n",
       "      <th>6</th>\n",
       "      <td>27.9</td>\n",
       "      <td>3.7</td>\n",
       "      <td>15.9</td>\n",
       "      <td>14.9</td>\n",
       "      <td>35</td>\n",
       "    </tr>\n",
       "  </tbody>\n",
       "</table>\n",
       "</div>"
      ],
      "text/plain": [
       "   Delta h1 (higher)  Delta h1 (lower)  Delta h2 (higher)  Delta h2 (lower)  \\\n",
       "0               27.5               3.9               17.7              13.1   \n",
       "1               27.8               3.8               17.5              13.4   \n",
       "2               27.8               3.7               16.9              13.9   \n",
       "3               27.7               3.9               16.6              14.3   \n",
       "4               27.7               3.9               16.3              14.5   \n",
       "5               27.9               3.7               16.2              14.7   \n",
       "6               27.9               3.7               15.9              14.9   \n",
       "\n",
       "   Time  \n",
       "0     5  \n",
       "1    10  \n",
       "2    15  \n",
       "3    20  \n",
       "4    25  \n",
       "5    30  \n",
       "6    35  "
      ]
     },
     "execution_count": 2,
     "metadata": {},
     "output_type": "execute_result"
    }
   ],
   "source": [
    "df = pd.read_csv('data.csv')\n",
    "df"
   ]
  },
  {
   "cell_type": "markdown",
   "metadata": {},
   "source": [
    "#### <a id='toc1_1_3_2_'></a>[Обработка результатов](#toc0_)"
   ]
  },
  {
   "cell_type": "markdown",
   "metadata": {},
   "source": [
    "Рассчитаем разности высот:"
   ]
  },
  {
   "cell_type": "code",
   "execution_count": 3,
   "metadata": {},
   "outputs": [],
   "source": [
    "df['Delta h1'] = df['Delta h1 (higher)'] - df['Delta h1 (lower)']\n",
    "df['Delta h2'] = df['Delta h2 (higher)'] - df['Delta h2 (lower)']"
   ]
  },
  {
   "cell_type": "markdown",
   "metadata": {},
   "source": [
    "Рассчитаем погрешности:\n",
    "\n",
    "$$\n",
    "\\Delta \\tau = \\pm0,5 с, \\qquad \\delta h = \\pm0,1 см \\qquad \\Delta\\left(\\ln\\left(\\dfrac{\\Delta h_1}{\\Delta h_2}\\right)\\right) = \\pm2\\,\\delta h\\dfrac{\\Delta h_2}{\\Delta h_1}\n",
    "$$"
   ]
  },
  {
   "cell_type": "code",
   "execution_count": 4,
   "metadata": {},
   "outputs": [],
   "source": [
    "delta_tau = 0.5\n",
    "delta_h = 0.1\n",
    "delta_ln = 2 * delta_h * df['Delta h2'] / df['Delta h1']"
   ]
  },
  {
   "cell_type": "markdown",
   "metadata": {},
   "source": [
    "Построим график зависимости $\\ln\\left(\\dfrac{\\Delta h_1}{\\Delta h_2}\\right)$ от $\\tau$:"
   ]
  },
  {
   "cell_type": "code",
   "execution_count": 5,
   "metadata": {},
   "outputs": [],
   "source": [
    "df['delta_ln'] = np.log(df['Delta h1'] / df['Delta h2'])\n"
   ]
  },
  {
   "cell_type": "code",
   "execution_count": 17,
   "metadata": {},
   "outputs": [
    {
     "data": {
      "image/png": "[encoded data removed]",
      "text/plain": [
       "<Figure size 1000x1000 with 1 Axes>"
      ]
     },
     "metadata": {},
     "output_type": "display_data"
    }
   ],
   "source": [
    "# minimalistic style without background\n",
    "sns.set_style(\"whitegrid\")\n",
    "\n",
    "# plot base\n",
    "fig, ax = plt.subplots(figsize=(10, 10))\n",
    "df['ln'] = np.log(df['Delta h1'] / df['Delta h2'])\n",
    "X = np.array([df['Time']])\n",
    "Y = np.array([df['ln']])\n",
    "sns.regplot(x=X, y=Y)\n",
    "\n",
    "# add error bars\n",
    "Y_err = delta_ln\n",
    "for point in range(len(X)):\n",
    "\n",
    "    ax.errorbar(X[point], Y[point], xerr=delta_tau, yerr=Y_err[point], fmt='.', color='black')\n",
    "\n",
    "ax.set_xlabel(r'$\\tau$, c')\n",
    "ax.set_ylabel(r'$\\ln\\left(\\dfrac{\\Delta h_1}{\\Delta h_2}\\right)$', rotation=0, labelpad=30)\n",
    "\n",
    "plt.savefig('plot.png', dpi=300)\n",
    "\n",
    "sns.despine()\n",
    "plt.show()"
   ]
  },
  {
   "cell_type": "markdown",
   "metadata": {},
   "source": [
    "Найдем параметры a и b методом МНК:"
   ]
  },
  {
   "cell_type": "code",
   "execution_count": 21,
   "metadata": {},
   "outputs": [
    {
     "name": "stdout",
     "output_type": "stream",
     "text": [
      "Slope (a): 0.051281624102635925\n",
      "Intercept (b): 1.31319213915478\n"
     ]
    }
   ],
   "source": [
    "def func(x, a, b):\n",
    "    y = a*x + b\n",
    "    return y\n",
    "\n",
    "optimal_params = optimize.curve_fit(func, xdata = X.reshape(-1), ydata = Y.reshape(-1))[0]\n",
    "a, b = optimal_params\n",
    "\n",
    "print(f'Slope (a): {a}')\n",
    "print(f'Intercept (b): {b}')\n"
   ]
  },
  {
   "cell_type": "markdown",
   "metadata": {},
   "source": [
    "Найдем $\\gamma$:"
   ]
  },
  {
   "cell_type": "code",
   "execution_count": 22,
   "metadata": {},
   "outputs": [
    {
     "name": "stdout",
     "output_type": "stream",
     "text": [
      "1.37 +- 0.022\n"
     ]
    }
   ],
   "source": [
    "gamma = np.e ** b / (np.e ** b - 1)\n",
    "sigma_gamma = delta_ln.mean()\n",
    "\n",
    "print(f'{gamma:.3} +- {sigma_gamma:.2}')"
   ]
  },
  {
   "cell_type": "markdown",
   "metadata": {},
   "source": [
    "Проверим, сошлось ли значение $\\gamma$ с табличным:"
   ]
  },
  {
   "cell_type": "code",
   "execution_count": 23,
   "metadata": {},
   "outputs": [
    {
     "name": "stdout",
     "output_type": "stream",
     "text": [
      "Сошлось!\n"
     ]
    }
   ],
   "source": [
    "table_gamma = 1.4\n",
    "if gamma - sigma_gamma <= gamma <= gamma + sigma_gamma:\n",
    "    print('Сошлось!')"
   ]
  },
  {
   "cell_type": "markdown",
   "metadata": {},
   "source": [
    "### <a id='toc1_1_4_'></a>[3 Выводы](#toc0_)\n",
    "\n"
   ]
  },
  {
   "cell_type": "markdown",
   "metadata": {},
   "source": [
    "В результате эксперимента нам удалось измерить значение показателя адиабаты для воздуха исходя из зависимости разницы высот в манометре и времени. Получилось, что $\\gamma = 1.37 \\pm 0.022$ . Табличное значение $1.4$ попадает в диапазон погрешностей — это значит, что мы корректно провели эксперимент и верно оценили погрешность."
   ]
  }
 ],
 "metadata": {
  "kernelspec": {
   "display_name": "base-ds",
   "language": "python",
   "name": "python3"
  },
  "language_info": {
   "codemirror_mode": {
    "name": "ipython",
    "version": 3
   },
   "file_extension": ".py",
   "mimetype": "text/x-python",
   "name": "python",
   "nbconvert_exporter": "python",
   "pygments_lexer": "ipython3",
   "version": "3.12.0"
  }
 },
 "nbformat": 4,
 "nbformat_minor": 2
}
